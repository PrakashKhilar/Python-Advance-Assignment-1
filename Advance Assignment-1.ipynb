{
 "cells": [
  {
   "cell_type": "markdown",
   "id": "43ee6e02",
   "metadata": {},
   "source": [
    "# Advance Assignment-1"
   ]
  },
  {
   "cell_type": "code",
   "execution_count": 1,
   "id": "82a756ca",
   "metadata": {},
   "outputs": [],
   "source": [
    "# Q1 : What is the purpose of Python&#39;s OOP?"
   ]
  },
  {
   "cell_type": "code",
   "execution_count": null,
   "id": "648235d0",
   "metadata": {},
   "outputs": [],
   "source": [
    "# Ans :\n",
    "Object-oriented programming is a programming paradigm that provides a means of structuring programs so that properties and behaviors are bundled into individual objects\n",
    "\n",
    "In Python, object-oriented Programming (OOPs) uses objects and classes in programming.\n",
    "It aims to implement real-world entities like inheritance, polymorphisms, encapsulation, etc. in the programming.\n",
    "The main concept of OOPs is to bind the data and the functions that work on that together as a single unit so that no other part of the code can access this data.\n",
    "Some Advantages are mentioned below:\n",
    "\n",
    "It helps to divide our over all program into different small segments and thus making problem solving easy through the use of objects\n",
    "Helps in easy maintenance and modification of existing program\n",
    "Multiple instances of an object can be made and explored."
   ]
  },
  {
   "cell_type": "code",
   "execution_count": 3,
   "id": "e01f0427",
   "metadata": {},
   "outputs": [],
   "source": [
    "# Q2 : Where does an inheritance search look for an attribute?"
   ]
  },
  {
   "cell_type": "code",
   "execution_count": null,
   "id": "0385c221",
   "metadata": {},
   "outputs": [],
   "source": [
    "# Ans;\n",
    "\n",
    "Python searches for an attribute in an upward tree of attributes. \n",
    "It first searches for the attribute in its instance and then looks in the class it is generated from, to all super classes listed in its class header"
   ]
  },
  {
   "cell_type": "code",
   "execution_count": 4,
   "id": "b86bc6a8",
   "metadata": {},
   "outputs": [],
   "source": [
    "# Q3 : How do you distinguish between a class object and an instance object?"
   ]
  },
  {
   "cell_type": "code",
   "execution_count": null,
   "id": "ab972119",
   "metadata": {},
   "outputs": [],
   "source": [
    "# Ans;\n",
    "The differences between a class object and an instance object are:\n",
    "\n",
    "Class is a template for creating objects whereas object is an instance of class\n",
    "Seperate memory is allocated for each object whenever an object is created. but for a class this doesnot happens.\n",
    "A Class is created once. Many objects are created using a class.\n",
    "As Classes have no allocated memory. they can't be manipulated. but objects can be manipulated."
   ]
  },
  {
   "cell_type": "code",
   "execution_count": 5,
   "id": "bbab0e84",
   "metadata": {},
   "outputs": [],
   "source": [
    "# Q4 : What makes the first argument in a class’s method function special?"
   ]
  },
  {
   "cell_type": "code",
   "execution_count": null,
   "id": "8fc7ef05",
   "metadata": {},
   "outputs": [],
   "source": [
    "# Ans;\n",
    "Python Classes usually have three types of methods which are:\n",
    "\n",
    "Instance Methods (object level methods)\n",
    "Class Methods (class level methods)\n",
    "Static Methods (general utility methods)\n",
    "self is the first argument for instance methods. which refers to the object itself\n",
    "cls is the first argument for class methods which refers to the class itself."
   ]
  },
  {
   "cell_type": "code",
   "execution_count": 7,
   "id": "5fa3eb20",
   "metadata": {},
   "outputs": [],
   "source": [
    "# Q5 : What is the purpose of the init method?"
   ]
  },
  {
   "cell_type": "code",
   "execution_count": null,
   "id": "af8c8aaa",
   "metadata": {},
   "outputs": [],
   "source": [
    "# Ans;\n",
    "__init__ is a reseved method in python classes. It serves the role of a constructor in object oriented terminology. \n",
    "This method is called when an object is created from a class and it allows the class to initialize the attributes of the class"
   ]
  },
  {
   "cell_type": "code",
   "execution_count": 8,
   "id": "958f7143",
   "metadata": {},
   "outputs": [],
   "source": [
    "# Q6: What is the process for creating a class instance?"
   ]
  },
  {
   "cell_type": "code",
   "execution_count": null,
   "id": "dd4a2894",
   "metadata": {},
   "outputs": [],
   "source": [
    "# Ans;\n",
    " To create a class instance, we need to call the class by its name and pass the arguments to the class, which its init method accepts.\n",
    "\n",
    "Example: my_name = my_class(\"Prakash\",\"INeuron\") \n",
    "    Here my_name is an instance of class my_class with attributes \"Prakash\" and \"INeuron\"."
   ]
  },
  {
   "cell_type": "code",
   "execution_count": 9,
   "id": "90923569",
   "metadata": {},
   "outputs": [],
   "source": [
    "# Q7 : What is the process for creating a class?"
   ]
  },
  {
   "cell_type": "code",
   "execution_count": null,
   "id": "7083549f",
   "metadata": {},
   "outputs": [],
   "source": [
    "# ANs;\n",
    "Class keyword is used to created a class in python. The syntax to create a class in python is class :\n",
    "\n",
    "Example: class Shape: ➞ this creates a class called Shape"
   ]
  },
  {
   "cell_type": "code",
   "execution_count": 10,
   "id": "7d590fcb",
   "metadata": {},
   "outputs": [],
   "source": [
    "# Q8 : How would you define the superclasses of a class?"
   ]
  },
  {
   "cell_type": "code",
   "execution_count": null,
   "id": "91517d24",
   "metadata": {},
   "outputs": [],
   "source": [
    "# Ans;\n",
    "Superclass/Parent class is given as a arugment to the child class\n",
    "\n",
    "Example: class Employee(Person): Here child class Employee inherits attributes and methods/functions from Superclass/Parent Person"
   ]
  }
 ],
 "metadata": {
  "kernelspec": {
   "display_name": "Python 3 (ipykernel)",
   "language": "python",
   "name": "python3"
  },
  "language_info": {
   "codemirror_mode": {
    "name": "ipython",
    "version": 3
   },
   "file_extension": ".py",
   "mimetype": "text/x-python",
   "name": "python",
   "nbconvert_exporter": "python",
   "pygments_lexer": "ipython3",
   "version": "3.9.12"
  }
 },
 "nbformat": 4,
 "nbformat_minor": 5
}
